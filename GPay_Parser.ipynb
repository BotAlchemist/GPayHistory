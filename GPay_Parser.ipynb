{
 "cells": [
  {
   "cell_type": "code",
   "execution_count": null,
   "id": "7b72e34d",
   "metadata": {},
   "outputs": [],
   "source": [
    "!pip install html-to-json"
   ]
  },
  {
   "cell_type": "code",
   "execution_count": null,
   "id": "bc3b1c64",
   "metadata": {},
   "outputs": [],
   "source": [
    "import html_to_json\n",
    "from dateutil.parser import parse\n",
    "import pandas as pd"
   ]
  },
  {
   "cell_type": "code",
   "execution_count": null,
   "id": "03faf9f9",
   "metadata": {},
   "outputs": [],
   "source": [
    "with open(\"My Activity.html\", \"r\", encoding=\"utf8\") as html_file:\n",
    "    html = html_file.read()"
   ]
  },
  {
   "cell_type": "code",
   "execution_count": null,
   "id": "b192d122",
   "metadata": {},
   "outputs": [],
   "source": [
    "output_json = html_to_json.convert(html)\n",
    "#print(output_json)"
   ]
  },
  {
   "cell_type": "code",
   "execution_count": null,
   "id": "a4cbb52e",
   "metadata": {},
   "outputs": [],
   "source": [
    "def get_transaction_time_split(t_time):\n",
    "    converted_transaction_time= parse(t_time)\n",
    "    i_year= converted_transaction_time.year\n",
    "    i_month= converted_transaction_time.month\n",
    "    i_day= converted_transaction_time.day\n",
    "    i_hour= converted_transaction_time.hour\n",
    "    i_minute= converted_transaction_time.minute\n",
    "    \n",
    "    return([i_year, i_month, i_day, i_hour, i_minute])\n",
    "\n",
    "gpay_history=[]\n",
    "for i_transaction in range(len(output_json['html'][0]['body'][0]['div'][0]['div'])):\n",
    "    #print(output_json['html'][0]['body'][0]['div'][0]['div'][i_transaction]['div'][0]['div'][1]['_values'])\n",
    "    \n",
    "    transaction_details= output_json['html'][0]['body'][0]['div'][0]['div'][i_transaction]['div'][0]['div'][1]['_values']\n",
    "    transaction_amount= transaction_details[0].split('using')[0]\n",
    "    transaction_time= transaction_details[1]\n",
    "    \n",
    "    #print(transaction_amount)\n",
    "    \n",
    "    total_amount_details= transaction_amount.split('to')[0]\n",
    "    transaction_type= total_amount_details.split(' ')[0]\n",
    "    inr_amount= total_amount_details.split(' ')[1].replace('₹', '')\n",
    "    \n",
    "    try:\n",
    "        sent_to_details= transaction_amount.split('to')[1].upper()\n",
    "    except:\n",
    "        sent_to_details= 'UNKNOWN'\n",
    "        \n",
    "    transaction_time_list= get_transaction_time_split(transaction_time)\n",
    "    \n",
    "    print(transaction_type,inr_amount , sent_to_details, transaction_time_list)\n",
    "    \n",
    "    final_row= [transaction_type,inr_amount , sent_to_details]\n",
    "    final_row.extend(transaction_time_list)\n",
    "    gpay_history.append(final_row)\n",
    "    \n",
    "    #print(abc)"
   ]
  },
  {
   "cell_type": "code",
   "execution_count": null,
   "id": "72e5e1ff",
   "metadata": {},
   "outputs": [],
   "source": [
    "final_row#.#extend(transaction_time_list)"
   ]
  },
  {
   "cell_type": "code",
   "execution_count": null,
   "id": "60da1478",
   "metadata": {},
   "outputs": [],
   "source": [
    "gpay_df= pd.DataFrame(gpay_history, columns=['Type', 'Amount', 'To', 'Year', 'Month', 'Day', 'Hour', 'Minute'])"
   ]
  },
  {
   "cell_type": "code",
   "execution_count": null,
   "id": "9874a7b6",
   "metadata": {},
   "outputs": [],
   "source": [
    "gpay_df.to_csv('GPay_history.csv', index=False)"
   ]
  },
  {
   "cell_type": "code",
   "execution_count": null,
   "id": "08b6accb",
   "metadata": {},
   "outputs": [],
   "source": []
  },
  {
   "cell_type": "code",
   "execution_count": null,
   "id": "480770ba",
   "metadata": {},
   "outputs": [],
   "source": []
  },
  {
   "cell_type": "code",
   "execution_count": null,
   "id": "c97a51f6",
   "metadata": {},
   "outputs": [],
   "source": []
  },
  {
   "cell_type": "code",
   "execution_count": null,
   "id": "1c3764d8",
   "metadata": {},
   "outputs": [],
   "source": []
  },
  {
   "cell_type": "code",
   "execution_count": null,
   "id": "08188d5e",
   "metadata": {},
   "outputs": [],
   "source": []
  },
  {
   "cell_type": "code",
   "execution_count": null,
   "id": "59004936",
   "metadata": {},
   "outputs": [],
   "source": []
  },
  {
   "cell_type": "code",
   "execution_count": null,
   "id": "9cbf4ba0",
   "metadata": {},
   "outputs": [],
   "source": []
  },
  {
   "cell_type": "code",
   "execution_count": null,
   "id": "9eb25dce",
   "metadata": {},
   "outputs": [],
   "source": []
  },
  {
   "cell_type": "code",
   "execution_count": null,
   "id": "02c5b537",
   "metadata": {},
   "outputs": [],
   "source": []
  }
 ],
 "metadata": {
  "kernelspec": {
   "display_name": "Python 3 (ipykernel)",
   "language": "python",
   "name": "python3"
  },
  "language_info": {
   "codemirror_mode": {
    "name": "ipython",
    "version": 3
   },
   "file_extension": ".py",
   "mimetype": "text/x-python",
   "name": "python",
   "nbconvert_exporter": "python",
   "pygments_lexer": "ipython3",
   "version": "3.8.5"
  }
 },
 "nbformat": 4,
 "nbformat_minor": 5
}
